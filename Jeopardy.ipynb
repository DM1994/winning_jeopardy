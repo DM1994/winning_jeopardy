{
 "cells": [
  {
   "cell_type": "markdown",
   "metadata": {},
   "source": [
    "# How to win Jeopardy"
   ]
  },
  {
   "cell_type": "markdown",
   "metadata": {},
   "source": [
    "This project will analyse a dataset of questions from the game show Jeopardy to try to find an effective way to train to win the game. In the game questions are asked and an amount of money is assigned to each question, if the respondent gets the answer correct, they win the money. Different questions have different amounts of money assigned."
   ]
  },
  {
   "cell_type": "code",
   "execution_count": 1,
   "metadata": {},
   "outputs": [],
   "source": [
    "import pandas as pd\n",
    "import csv\n",
    "\n",
    "jeopardy = pd.read_csv(\"jeopardy.csv\")"
   ]
  },
  {
   "cell_type": "markdown",
   "metadata": {},
   "source": [
    "First we'll explore the data."
   ]
  },
  {
   "cell_type": "code",
   "execution_count": 2,
   "metadata": {},
   "outputs": [
    {
     "data": {
      "text/html": [
       "<div>\n",
       "<style scoped>\n",
       "    .dataframe tbody tr th:only-of-type {\n",
       "        vertical-align: middle;\n",
       "    }\n",
       "\n",
       "    .dataframe tbody tr th {\n",
       "        vertical-align: top;\n",
       "    }\n",
       "\n",
       "    .dataframe thead th {\n",
       "        text-align: right;\n",
       "    }\n",
       "</style>\n",
       "<table border=\"1\" class=\"dataframe\">\n",
       "  <thead>\n",
       "    <tr style=\"text-align: right;\">\n",
       "      <th></th>\n",
       "      <th>Show Number</th>\n",
       "      <th>Air Date</th>\n",
       "      <th>Round</th>\n",
       "      <th>Category</th>\n",
       "      <th>Value</th>\n",
       "      <th>Question</th>\n",
       "      <th>Answer</th>\n",
       "    </tr>\n",
       "  </thead>\n",
       "  <tbody>\n",
       "    <tr>\n",
       "      <th>0</th>\n",
       "      <td>4680</td>\n",
       "      <td>2004-12-31</td>\n",
       "      <td>Jeopardy!</td>\n",
       "      <td>HISTORY</td>\n",
       "      <td>$200</td>\n",
       "      <td>For the last 8 years of his life, Galileo was ...</td>\n",
       "      <td>Copernicus</td>\n",
       "    </tr>\n",
       "    <tr>\n",
       "      <th>1</th>\n",
       "      <td>4680</td>\n",
       "      <td>2004-12-31</td>\n",
       "      <td>Jeopardy!</td>\n",
       "      <td>ESPN's TOP 10 ALL-TIME ATHLETES</td>\n",
       "      <td>$200</td>\n",
       "      <td>No. 2: 1912 Olympian; football star at Carlisl...</td>\n",
       "      <td>Jim Thorpe</td>\n",
       "    </tr>\n",
       "    <tr>\n",
       "      <th>2</th>\n",
       "      <td>4680</td>\n",
       "      <td>2004-12-31</td>\n",
       "      <td>Jeopardy!</td>\n",
       "      <td>EVERYBODY TALKS ABOUT IT...</td>\n",
       "      <td>$200</td>\n",
       "      <td>The city of Yuma in this state has a record av...</td>\n",
       "      <td>Arizona</td>\n",
       "    </tr>\n",
       "    <tr>\n",
       "      <th>3</th>\n",
       "      <td>4680</td>\n",
       "      <td>2004-12-31</td>\n",
       "      <td>Jeopardy!</td>\n",
       "      <td>THE COMPANY LINE</td>\n",
       "      <td>$200</td>\n",
       "      <td>In 1963, live on \"The Art Linkletter Show\", th...</td>\n",
       "      <td>McDonald's</td>\n",
       "    </tr>\n",
       "    <tr>\n",
       "      <th>4</th>\n",
       "      <td>4680</td>\n",
       "      <td>2004-12-31</td>\n",
       "      <td>Jeopardy!</td>\n",
       "      <td>EPITAPHS &amp; TRIBUTES</td>\n",
       "      <td>$200</td>\n",
       "      <td>Signer of the Dec. of Indep., framer of the Co...</td>\n",
       "      <td>John Adams</td>\n",
       "    </tr>\n",
       "  </tbody>\n",
       "</table>\n",
       "</div>"
      ],
      "text/plain": [
       "   Show Number    Air Date      Round                         Category  Value  \\\n",
       "0         4680  2004-12-31  Jeopardy!                          HISTORY   $200   \n",
       "1         4680  2004-12-31  Jeopardy!  ESPN's TOP 10 ALL-TIME ATHLETES   $200   \n",
       "2         4680  2004-12-31  Jeopardy!      EVERYBODY TALKS ABOUT IT...   $200   \n",
       "3         4680  2004-12-31  Jeopardy!                 THE COMPANY LINE   $200   \n",
       "4         4680  2004-12-31  Jeopardy!              EPITAPHS & TRIBUTES   $200   \n",
       "\n",
       "                                            Question      Answer  \n",
       "0  For the last 8 years of his life, Galileo was ...  Copernicus  \n",
       "1  No. 2: 1912 Olympian; football star at Carlisl...  Jim Thorpe  \n",
       "2  The city of Yuma in this state has a record av...     Arizona  \n",
       "3  In 1963, live on \"The Art Linkletter Show\", th...  McDonald's  \n",
       "4  Signer of the Dec. of Indep., framer of the Co...  John Adams  "
      ]
     },
     "execution_count": 2,
     "metadata": {},
     "output_type": "execute_result"
    }
   ],
   "source": [
    "jeopardy.head()"
   ]
  },
  {
   "cell_type": "code",
   "execution_count": 3,
   "metadata": {
    "scrolled": true
   },
   "outputs": [
    {
     "name": "stdout",
     "output_type": "stream",
     "text": [
      "Index(['Show Number', ' Air Date', ' Round', ' Category', ' Value',\n",
      "       ' Question', ' Answer'],\n",
      "      dtype='object')\n"
     ]
    }
   ],
   "source": [
    "print(jeopardy.columns)"
   ]
  },
  {
   "cell_type": "markdown",
   "metadata": {},
   "source": [
    "The column names require cleaning (whitespace needs to be removed) to make analysis easier."
   ]
  },
  {
   "cell_type": "code",
   "execution_count": 25,
   "metadata": {},
   "outputs": [
    {
     "name": "stdout",
     "output_type": "stream",
     "text": [
      "Index(['Show Number', 'Air Date', 'Round', 'Category', 'Value', 'Question',\n",
      "       'Answer', 'clean_question', 'clean_answer', 'clean_value',\n",
      "       'answer_in_question', 'question_overlap', 'high_value'],\n",
      "      dtype='object')\n"
     ]
    }
   ],
   "source": [
    "new_columns = []\n",
    "for c in jeopardy.columns:\n",
    "    c = c.strip()\n",
    "    new_columns.append(c)\n",
    "jeopardy.columns = new_columns\n",
    "print(jeopardy.columns)"
   ]
  },
  {
   "cell_type": "markdown",
   "metadata": {},
   "source": [
    "For later analysis we also need to clean the question and answer columns, by turning them into lowercase and removing any punctuation."
   ]
  },
  {
   "cell_type": "code",
   "execution_count": 5,
   "metadata": {},
   "outputs": [],
   "source": [
    "import re\n",
    "def norm(string):\n",
    "    string = str(string)\n",
    "    string = string.lower()\n",
    "    string = re.sub(r'[^\\w\\s]', '', string)\n",
    "    return string"
   ]
  },
  {
   "cell_type": "code",
   "execution_count": 6,
   "metadata": {},
   "outputs": [],
   "source": [
    "jeopardy['clean_question'] = jeopardy['Question'].apply(norm)\n",
    "jeopardy['clean_answer'] = jeopardy['Answer'].apply(norm)"
   ]
  },
  {
   "cell_type": "markdown",
   "metadata": {},
   "source": [
    "The 'Value' column must also be cleaned (turned into int values) to allow analysis."
   ]
  },
  {
   "cell_type": "code",
   "execution_count": 7,
   "metadata": {},
   "outputs": [],
   "source": [
    "def numeric(x):\n",
    "    x = re.sub(r'[^\\w\\w]', '', x)\n",
    "    try:\n",
    "        x = int(x)\n",
    "    except:\n",
    "        x = 0\n",
    "    return x\n"
   ]
  },
  {
   "cell_type": "code",
   "execution_count": 8,
   "metadata": {},
   "outputs": [],
   "source": [
    "jeopardy['clean_value'] = jeopardy['Value'].apply(numeric)"
   ]
  },
  {
   "cell_type": "markdown",
   "metadata": {},
   "source": [
    "The values in the 'Air Date' can be turned into datetime objects for easier analysis."
   ]
  },
  {
   "cell_type": "code",
   "execution_count": 9,
   "metadata": {},
   "outputs": [],
   "source": [
    "jeopardy['Air Date'] = pd.to_datetime(jeopardy['Air Date'])"
   ]
  },
  {
   "cell_type": "markdown",
   "metadata": {},
   "source": [
    "The first strategy we will test for winning jeopardy is the strategy of deducing the answer from the question. To test this we will determine how often terms appear both in the answer as well as the question. We will exclude the word 'the' which is likely unhelpful for deeducing the answer from the question."
   ]
  },
  {
   "cell_type": "code",
   "execution_count": 10,
   "metadata": {},
   "outputs": [],
   "source": [
    "#Here we create a function to turn the words of the question and answer into separate lists, and determine how many\n",
    "#terms that appear in the question also appear in the answer. We will not include the word 'the'.\n",
    "\n",
    "def ans_in_q(row):\n",
    "    split_question = row['clean_question'].split()\n",
    "    split_answer = row['clean_answer'].split()\n",
    "    match_count = 0\n",
    "    if 'the' in split_answer:\n",
    "        split_answer.remove('the')\n",
    "    if len(split_answer) == 0:\n",
    "        return 0\n",
    "    for word in split_answer:\n",
    "        if word in split_question:\n",
    "            match_count += 1\n",
    "    return match_count/len(split_answer)"
   ]
  },
  {
   "cell_type": "code",
   "execution_count": 11,
   "metadata": {},
   "outputs": [],
   "source": [
    "#Here we will apply the function to each row in the dataset.\n",
    "\n",
    "jeopardy['answer_in_question'] = jeopardy.apply(func=ans_in_q, axis=1)"
   ]
  },
  {
   "cell_type": "code",
   "execution_count": 12,
   "metadata": {},
   "outputs": [
    {
     "data": {
      "text/plain": [
       "0.05792070323661354"
      ]
     },
     "execution_count": 12,
     "metadata": {},
     "output_type": "execute_result"
    }
   ],
   "source": [
    "#Here we find the mean proportion of terms that appear in both the question and the answer.\n",
    "\n",
    "jeopardy['answer_in_question'].mean()"
   ]
  },
  {
   "cell_type": "markdown",
   "metadata": {},
   "source": [
    "In only 5.7% of cases do terms in the answer appear in the wording of the question. This suggests that deducing the answer from the question is not a viable strategy to winning jeopardy.\n",
    "\n",
    "The next strategy we will test is finding how often similar terms are repeated (i.e. have appeared in previous jeopardy questions). This will tell us if studying past Jeopardy questions may be an effective way of winning Jeopardy."
   ]
  },
  {
   "cell_type": "code",
   "execution_count": 13,
   "metadata": {},
   "outputs": [],
   "source": [
    "#First, we sort the dataframe by date of question asked.\n",
    "\n",
    "jeopardy.sort_values(by='Air Date', inplace=True)"
   ]
  },
  {
   "cell_type": "code",
   "execution_count": 14,
   "metadata": {},
   "outputs": [],
   "source": [
    "#Next we loop through the dataframe and count how often complex terms (terms of >5 characters) are repeated. We will \n",
    "#create a new column \"question overlap\", which counts how many complex terms in each question have also appeared in\n",
    "#past questions.\n",
    "\n",
    "terms_used = set()\n",
    "question_overlap = []\n",
    "for index, row in jeopardy.iterrows():\n",
    "    match_count = 0\n",
    "    split_question = row['clean_question'].split()\n",
    "    split_question = [x for x in split_question if len(x) > 5]\n",
    "    for w in split_question:\n",
    "        if w in terms_used:\n",
    "            match_count += 1\n",
    "        else:\n",
    "            terms_used.add(w)\n",
    "    try:\n",
    "        match_per_word = match_count/len(split_question)\n",
    "    except:\n",
    "        match_per_word = 0\n",
    "    question_overlap.append(match_per_word)\n",
    "\n",
    "jeopardy['question_overlap'] = pd.Series(question_overlap)"
   ]
  },
  {
   "cell_type": "code",
   "execution_count": 15,
   "metadata": {},
   "outputs": [
    {
     "name": "stdout",
     "output_type": "stream",
     "text": [
      "0.8726690023368798\n"
     ]
    }
   ],
   "source": [
    "#Now we find the mean value of repeated terms per question.\n",
    "\n",
    "print(jeopardy['question_overlap'].mean())"
   ]
  },
  {
   "cell_type": "markdown",
   "metadata": {},
   "source": [
    "Around 87% of words of 6 characters or more in the questions in the dataset had been used in previous Jeopardy questions, this suggests that studying past questions could be a promising route to learning how to win Jeopardy.\n",
    "\n",
    "Next we can determine if some subjects in past questions are better to study than others. To do this we will try to find patterns in what types of terms are likely to appear in higher value questions (questions where the money on offer is higher) vs. lower value questions."
   ]
  },
  {
   "cell_type": "code",
   "execution_count": 16,
   "metadata": {},
   "outputs": [],
   "source": [
    "#First we will write a function that classifies a question as either high value (1) or low value (0).\n",
    "\n",
    "def value_question(row):\n",
    "    if row['clean_value'] > 800:\n",
    "        return 1\n",
    "    else:\n",
    "        return 0"
   ]
  },
  {
   "cell_type": "code",
   "execution_count": 17,
   "metadata": {},
   "outputs": [],
   "source": [
    "#Next we apply the value to the dataframe.\n",
    "\n",
    "jeopardy['high_value'] = jeopardy.apply(value_question, axis=1)"
   ]
  },
  {
   "cell_type": "code",
   "execution_count": 18,
   "metadata": {},
   "outputs": [],
   "source": [
    "#Next we can write a function that takes in a word and a row and determines (1) if the word appears in the question\n",
    "#and (2) if the question is high value\n",
    "\n",
    "def highword(row, word):\n",
    "    high_count = 0\n",
    "    words_in_q = row['clean_question'].split()\n",
    "    if word in words_in_q:\n",
    "        if row['high_value'] == 1:\n",
    "            high_count += 1\n",
    "    return high_count\n",
    "    "
   ]
  },
  {
   "cell_type": "code",
   "execution_count": 19,
   "metadata": {},
   "outputs": [],
   "source": [
    "#Next we write a function that does the same but for low value questions.\n",
    "\n",
    "def lowword(row, word):\n",
    "    low_count = 0\n",
    "    words_in_q = row['clean_question'].split()\n",
    "    if word in words_in_q:\n",
    "        if row['high_value'] == 0:\n",
    "            low_count += 1\n",
    "    return low_count"
   ]
  },
  {
   "cell_type": "code",
   "execution_count": 20,
   "metadata": {},
   "outputs": [],
   "source": [
    "#Next we take a random sample of 10 terms to try out our analysis.\n",
    "\n",
    "import random\n",
    "sample_terms = random.sample(terms_used, 10)"
   ]
  },
  {
   "cell_type": "code",
   "execution_count": 21,
   "metadata": {},
   "outputs": [],
   "source": [
    "#Here we make a list of the observed frequencies of each word in high value questions and low value questions.\n",
    "\n",
    "observed = []\n",
    "for w in sample_terms:\n",
    "    high_count = jeopardy.apply(lambda x: highword(x, w), axis=1).sum()\n",
    "    low_count = jeopardy.apply(lambda x: lowword(x, w), axis=1).sum()\n",
    "    observed.append([high_count, low_count])\n",
    "    \n",
    "    "
   ]
  },
  {
   "cell_type": "code",
   "execution_count": 22,
   "metadata": {},
   "outputs": [
    {
     "name": "stdout",
     "output_type": "stream",
     "text": [
      "[[6, 13], [1, 3], [0, 1], [0, 1], [0, 1], [0, 3], [1, 0], [1, 0], [0, 1], [1, 4]]\n"
     ]
    }
   ],
   "source": [
    "#Here are the observed frequencies.\n",
    "\n",
    "print(observed)"
   ]
  },
  {
   "cell_type": "markdown",
   "metadata": {},
   "source": [
    "We can see that the sampled terms show variable frequencies among high and low value questions. But we cannot tell if the differences in frequencies for each word is statistically significant. To do this we can perform a chi square analysis."
   ]
  },
  {
   "cell_type": "code",
   "execution_count": 23,
   "metadata": {},
   "outputs": [],
   "source": [
    "#For a chi square analysis we need to find the expected frequencies of high and low value questions, we start by \n",
    "#determining their frequency in the dataset as a whole\n",
    "\n",
    "high_value_count = len(jeopardy[jeopardy['high_value'] == 1].index)\n",
    "low_value_count = len(jeopardy[jeopardy['high_value'] == 0].index)"
   ]
  },
  {
   "cell_type": "code",
   "execution_count": 24,
   "metadata": {},
   "outputs": [
    {
     "data": {
      "text/plain": [
       "[Power_divergenceResult(statistic=0.09977335504492044, pvalue=0.7521017865262274),\n",
       " Power_divergenceResult(statistic=0.021646150708492677, pvalue=0.8830323245068887),\n",
       " Power_divergenceResult(statistic=0.3949764642333513, pvalue=0.5296950912486695),\n",
       " Power_divergenceResult(statistic=0.3949764642333513, pvalue=0.5296950912486695),\n",
       " Power_divergenceResult(statistic=0.3949764642333513, pvalue=0.5296950912486695),\n",
       " Power_divergenceResult(statistic=1.184929392700054, pvalue=0.27635474913315955),\n",
       " Power_divergenceResult(statistic=2.5317964247338085, pvalue=0.11157312838169751),\n",
       " Power_divergenceResult(statistic=2.5317964247338085, pvalue=0.11157312838169751),\n",
       " Power_divergenceResult(statistic=0.3949764642333513, pvalue=0.5296950912486695),\n",
       " Power_divergenceResult(statistic=0.1702839704934861, pvalue=0.6798595573662745)]"
      ]
     },
     "execution_count": 24,
     "metadata": {},
     "output_type": "execute_result"
    }
   ],
   "source": [
    "#Now we can perform the chi square test, we add the observed high value and low value frequencies of each word, then \n",
    "#find their percentage as a proportion of all the questions. Using that proportion we can find the expected \n",
    "#frequencies, by mutliplying it by the overall high value count and low value count to find the expected number\n",
    "#of high value and low value questions respectively (for that word). Once we have the observed and expected \n",
    "#frequencies, we can perform the chi square test, and append the result to a list.\n",
    "\n",
    "\n",
    "from scipy.stats import chisquare\n",
    "chi_squared = []\n",
    "for i in observed:\n",
    "    total = sum(i)\n",
    "    total_prop = total/len(jeopardy.index)\n",
    "    expected_high = total_prop*high_value_count\n",
    "    expected_low = total_prop*low_value_count\n",
    "    chi_squared.append(chisquare(i, [expected_high, expected_low]))\n",
    "\n",
    "chi_squared"
   ]
  },
  {
   "cell_type": "markdown",
   "metadata": {},
   "source": [
    "Unfortunately, none of the terms returned a significant result, i.e. none of the words appear in significantly more higher value questions than lower value questions. This suggests that finding words which are more common in higher value questions is not a promising route to winning Jeopardy. \n",
    "\n",
    "However, this is only a random sample of 10 words, so a higher sampling may find some words which show a significant result. \n",
    "\n",
    "Overall, the most promising route to winning Jeopardy appears to be studying past questions, whether high value or low value."
   ]
  }
 ],
 "metadata": {
  "kernelspec": {
   "display_name": "Python 3",
   "language": "python",
   "name": "python3"
  },
  "language_info": {
   "codemirror_mode": {
    "name": "ipython",
    "version": 3
   },
   "file_extension": ".py",
   "mimetype": "text/x-python",
   "name": "python",
   "nbconvert_exporter": "python",
   "pygments_lexer": "ipython3",
   "version": "3.8.3"
  }
 },
 "nbformat": 4,
 "nbformat_minor": 1
}
